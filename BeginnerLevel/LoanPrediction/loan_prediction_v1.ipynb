{
 "cells": [
  {
   "cell_type": "code",
   "execution_count": 803,
   "metadata": {
    "collapsed": true
   },
   "outputs": [],
   "source": [
    "import pandas as pd\n",
    "import matplotlib as plt\n",
    "import numpy as np\n",
    "from scipy.stats import mode\n",
    "from sklearn.preprocessing import LabelEncoder\n",
    "from sklearn.ensemble import GradientBoostingClassifier\n",
    "from sklearn.svm import SVC\n",
    "from sklearn.neighbors import KNeighborsClassifier\n",
    "from sklearn.linear_model import LogisticRegression\n",
    "from sklearn.naive_bayes import GaussianNB\n",
    "from sklearn import cross_validation, metrics\n",
    "from sklearn.grid_search import GridSearchCV\n",
    "import seaborn as sns\n",
    "%matplotlib inline\n",
    "\n",
    "train_data = pd.read_csv(\"train_data.csv\", index_col = 'Loan_ID')\n",
    "test_data = pd.read_csv(\"test_data_modified.csv\", index_col = 'Loan_ID') #test_data_modified.csv is a modified version of originally downloaded test file"
   ]
  },
  {
   "cell_type": "markdown",
   "metadata": {},
   "source": [
    "**Data Exploration of Train data**"
   ]
  },
  {
   "cell_type": "markdown",
   "metadata": {},
   "source": [
    "*Variable Identification (Data Types,Predictors, Target)*"
   ]
  },
  {
   "cell_type": "code",
   "execution_count": 804,
   "metadata": {},
   "outputs": [
    {
     "data": {
      "text/plain": [
       "Gender                object\n",
       "Married               object\n",
       "Dependents            object\n",
       "Education             object\n",
       "Self_Employed         object\n",
       "ApplicantIncome        int64\n",
       "CoapplicantIncome    float64\n",
       "LoanAmount           float64\n",
       "Loan_Amount_Term     float64\n",
       "Credit_History       float64\n",
       "Property_Area         object\n",
       "Loan_Status           object\n",
       "dtype: object"
      ]
     },
     "execution_count": 804,
     "metadata": {},
     "output_type": "execute_result"
    }
   ],
   "source": [
    "train_data.dtypes"
   ]
  },
  {
   "cell_type": "markdown",
   "metadata": {},
   "source": [
    "*Univariate Analysis (Mean, Median, Mode, Std, Max, Min)*"
   ]
  },
  {
   "cell_type": "code",
   "execution_count": 805,
   "metadata": {},
   "outputs": [
    {
     "data": {
      "text/html": [
       "<div>\n",
       "<style>\n",
       "    .dataframe thead tr:only-child th {\n",
       "        text-align: right;\n",
       "    }\n",
       "\n",
       "    .dataframe thead th {\n",
       "        text-align: left;\n",
       "    }\n",
       "\n",
       "    .dataframe tbody tr th {\n",
       "        vertical-align: top;\n",
       "    }\n",
       "</style>\n",
       "<table border=\"1\" class=\"dataframe\">\n",
       "  <thead>\n",
       "    <tr style=\"text-align: right;\">\n",
       "      <th></th>\n",
       "      <th>ApplicantIncome</th>\n",
       "      <th>CoapplicantIncome</th>\n",
       "      <th>LoanAmount</th>\n",
       "      <th>Loan_Amount_Term</th>\n",
       "      <th>Credit_History</th>\n",
       "    </tr>\n",
       "  </thead>\n",
       "  <tbody>\n",
       "    <tr>\n",
       "      <th>count</th>\n",
       "      <td>614.000000</td>\n",
       "      <td>614.000000</td>\n",
       "      <td>592.000000</td>\n",
       "      <td>600.00000</td>\n",
       "      <td>564.000000</td>\n",
       "    </tr>\n",
       "    <tr>\n",
       "      <th>mean</th>\n",
       "      <td>5403.459283</td>\n",
       "      <td>1621.245798</td>\n",
       "      <td>146.412162</td>\n",
       "      <td>342.00000</td>\n",
       "      <td>0.842199</td>\n",
       "    </tr>\n",
       "    <tr>\n",
       "      <th>std</th>\n",
       "      <td>6109.041673</td>\n",
       "      <td>2926.248369</td>\n",
       "      <td>85.587325</td>\n",
       "      <td>65.12041</td>\n",
       "      <td>0.364878</td>\n",
       "    </tr>\n",
       "    <tr>\n",
       "      <th>min</th>\n",
       "      <td>150.000000</td>\n",
       "      <td>0.000000</td>\n",
       "      <td>9.000000</td>\n",
       "      <td>12.00000</td>\n",
       "      <td>0.000000</td>\n",
       "    </tr>\n",
       "    <tr>\n",
       "      <th>25%</th>\n",
       "      <td>2877.500000</td>\n",
       "      <td>0.000000</td>\n",
       "      <td>100.000000</td>\n",
       "      <td>360.00000</td>\n",
       "      <td>1.000000</td>\n",
       "    </tr>\n",
       "    <tr>\n",
       "      <th>50%</th>\n",
       "      <td>3812.500000</td>\n",
       "      <td>1188.500000</td>\n",
       "      <td>128.000000</td>\n",
       "      <td>360.00000</td>\n",
       "      <td>1.000000</td>\n",
       "    </tr>\n",
       "    <tr>\n",
       "      <th>75%</th>\n",
       "      <td>5795.000000</td>\n",
       "      <td>2297.250000</td>\n",
       "      <td>168.000000</td>\n",
       "      <td>360.00000</td>\n",
       "      <td>1.000000</td>\n",
       "    </tr>\n",
       "    <tr>\n",
       "      <th>max</th>\n",
       "      <td>81000.000000</td>\n",
       "      <td>41667.000000</td>\n",
       "      <td>700.000000</td>\n",
       "      <td>480.00000</td>\n",
       "      <td>1.000000</td>\n",
       "    </tr>\n",
       "  </tbody>\n",
       "</table>\n",
       "</div>"
      ],
      "text/plain": [
       "       ApplicantIncome  CoapplicantIncome  LoanAmount  Loan_Amount_Term  \\\n",
       "count       614.000000         614.000000  592.000000         600.00000   \n",
       "mean       5403.459283        1621.245798  146.412162         342.00000   \n",
       "std        6109.041673        2926.248369   85.587325          65.12041   \n",
       "min         150.000000           0.000000    9.000000          12.00000   \n",
       "25%        2877.500000           0.000000  100.000000         360.00000   \n",
       "50%        3812.500000        1188.500000  128.000000         360.00000   \n",
       "75%        5795.000000        2297.250000  168.000000         360.00000   \n",
       "max       81000.000000       41667.000000  700.000000         480.00000   \n",
       "\n",
       "       Credit_History  \n",
       "count      564.000000  \n",
       "mean         0.842199  \n",
       "std          0.364878  \n",
       "min          0.000000  \n",
       "25%          1.000000  \n",
       "50%          1.000000  \n",
       "75%          1.000000  \n",
       "max          1.000000  "
      ]
     },
     "execution_count": 805,
     "metadata": {},
     "output_type": "execute_result"
    }
   ],
   "source": [
    "train_data.describe()"
   ]
  },
  {
   "cell_type": "code",
   "execution_count": 806,
   "metadata": {},
   "outputs": [
    {
     "data": {
      "text/html": [
       "<div>\n",
       "<style>\n",
       "    .dataframe thead tr:only-child th {\n",
       "        text-align: right;\n",
       "    }\n",
       "\n",
       "    .dataframe thead th {\n",
       "        text-align: left;\n",
       "    }\n",
       "\n",
       "    .dataframe tbody tr th {\n",
       "        vertical-align: top;\n",
       "    }\n",
       "</style>\n",
       "<table border=\"1\" class=\"dataframe\">\n",
       "  <thead>\n",
       "    <tr style=\"text-align: right;\">\n",
       "      <th></th>\n",
       "      <th>Gender</th>\n",
       "      <th>Married</th>\n",
       "      <th>Dependents</th>\n",
       "      <th>Education</th>\n",
       "      <th>Self_Employed</th>\n",
       "      <th>ApplicantIncome</th>\n",
       "      <th>CoapplicantIncome</th>\n",
       "      <th>LoanAmount</th>\n",
       "      <th>Loan_Amount_Term</th>\n",
       "      <th>Credit_History</th>\n",
       "      <th>Property_Area</th>\n",
       "      <th>Loan_Status</th>\n",
       "    </tr>\n",
       "    <tr>\n",
       "      <th>Loan_ID</th>\n",
       "      <th></th>\n",
       "      <th></th>\n",
       "      <th></th>\n",
       "      <th></th>\n",
       "      <th></th>\n",
       "      <th></th>\n",
       "      <th></th>\n",
       "      <th></th>\n",
       "      <th></th>\n",
       "      <th></th>\n",
       "      <th></th>\n",
       "      <th></th>\n",
       "    </tr>\n",
       "  </thead>\n",
       "  <tbody>\n",
       "    <tr>\n",
       "      <th>LP001002</th>\n",
       "      <td>Male</td>\n",
       "      <td>No</td>\n",
       "      <td>0</td>\n",
       "      <td>Graduate</td>\n",
       "      <td>No</td>\n",
       "      <td>5849</td>\n",
       "      <td>0.0</td>\n",
       "      <td>NaN</td>\n",
       "      <td>360.0</td>\n",
       "      <td>1.0</td>\n",
       "      <td>Urban</td>\n",
       "      <td>Y</td>\n",
       "    </tr>\n",
       "    <tr>\n",
       "      <th>LP001003</th>\n",
       "      <td>Male</td>\n",
       "      <td>Yes</td>\n",
       "      <td>1</td>\n",
       "      <td>Graduate</td>\n",
       "      <td>No</td>\n",
       "      <td>4583</td>\n",
       "      <td>1508.0</td>\n",
       "      <td>128.0</td>\n",
       "      <td>360.0</td>\n",
       "      <td>1.0</td>\n",
       "      <td>Rural</td>\n",
       "      <td>N</td>\n",
       "    </tr>\n",
       "    <tr>\n",
       "      <th>LP001005</th>\n",
       "      <td>Male</td>\n",
       "      <td>Yes</td>\n",
       "      <td>0</td>\n",
       "      <td>Graduate</td>\n",
       "      <td>Yes</td>\n",
       "      <td>3000</td>\n",
       "      <td>0.0</td>\n",
       "      <td>66.0</td>\n",
       "      <td>360.0</td>\n",
       "      <td>1.0</td>\n",
       "      <td>Urban</td>\n",
       "      <td>Y</td>\n",
       "    </tr>\n",
       "    <tr>\n",
       "      <th>LP001006</th>\n",
       "      <td>Male</td>\n",
       "      <td>Yes</td>\n",
       "      <td>0</td>\n",
       "      <td>Not Graduate</td>\n",
       "      <td>No</td>\n",
       "      <td>2583</td>\n",
       "      <td>2358.0</td>\n",
       "      <td>120.0</td>\n",
       "      <td>360.0</td>\n",
       "      <td>1.0</td>\n",
       "      <td>Urban</td>\n",
       "      <td>Y</td>\n",
       "    </tr>\n",
       "    <tr>\n",
       "      <th>LP001008</th>\n",
       "      <td>Male</td>\n",
       "      <td>No</td>\n",
       "      <td>0</td>\n",
       "      <td>Graduate</td>\n",
       "      <td>No</td>\n",
       "      <td>6000</td>\n",
       "      <td>0.0</td>\n",
       "      <td>141.0</td>\n",
       "      <td>360.0</td>\n",
       "      <td>1.0</td>\n",
       "      <td>Urban</td>\n",
       "      <td>Y</td>\n",
       "    </tr>\n",
       "  </tbody>\n",
       "</table>\n",
       "</div>"
      ],
      "text/plain": [
       "         Gender Married Dependents     Education Self_Employed  \\\n",
       "Loan_ID                                                          \n",
       "LP001002   Male      No          0      Graduate            No   \n",
       "LP001003   Male     Yes          1      Graduate            No   \n",
       "LP001005   Male     Yes          0      Graduate           Yes   \n",
       "LP001006   Male     Yes          0  Not Graduate            No   \n",
       "LP001008   Male      No          0      Graduate            No   \n",
       "\n",
       "          ApplicantIncome  CoapplicantIncome  LoanAmount  Loan_Amount_Term  \\\n",
       "Loan_ID                                                                      \n",
       "LP001002             5849                0.0         NaN             360.0   \n",
       "LP001003             4583             1508.0       128.0             360.0   \n",
       "LP001005             3000                0.0        66.0             360.0   \n",
       "LP001006             2583             2358.0       120.0             360.0   \n",
       "LP001008             6000                0.0       141.0             360.0   \n",
       "\n",
       "          Credit_History Property_Area Loan_Status  \n",
       "Loan_ID                                             \n",
       "LP001002             1.0         Urban           Y  \n",
       "LP001003             1.0         Rural           N  \n",
       "LP001005             1.0         Urban           Y  \n",
       "LP001006             1.0         Urban           Y  \n",
       "LP001008             1.0         Urban           Y  "
      ]
     },
     "execution_count": 806,
     "metadata": {},
     "output_type": "execute_result"
    }
   ],
   "source": [
    "train_data.head()"
   ]
  },
  {
   "cell_type": "code",
   "execution_count": 807,
   "metadata": {},
   "outputs": [
    {
     "data": {
      "text/plain": [
       "Gender               object\n",
       "Married              object\n",
       "Dependents           object\n",
       "Education            object\n",
       "Self_Employed        object\n",
       "LoanAmount          float64\n",
       "Loan_Amount_Term    float64\n",
       "Credit_History      float64\n",
       "Property_Area        object\n",
       "Loan_Status          object\n",
       "TotalIncome         float64\n",
       "dtype: object"
      ]
     },
     "execution_count": 807,
     "metadata": {},
     "output_type": "execute_result"
    }
   ],
   "source": [
    "train_data['TotalIncome'] = train_data['ApplicantIncome'] + train_data['CoapplicantIncome']\n",
    "train_data.drop(['ApplicantIncome','CoapplicantIncome'], axis = 1, inplace = True)\n",
    "train_data.dtypes"
   ]
  },
  {
   "cell_type": "markdown",
   "metadata": {},
   "source": [
    "*Bivariate Analysis*"
   ]
  },
  {
   "cell_type": "code",
   "execution_count": 808,
   "metadata": {},
   "outputs": [
    {
     "data": {
      "text/plain": [
       "array([<matplotlib.axes._subplots.AxesSubplot object at 0x13ee61c50>,\n",
       "       <matplotlib.axes._subplots.AxesSubplot object at 0x13eea5c90>], dtype=object)"
      ]
     },
     "execution_count": 808,
     "metadata": {},
     "output_type": "execute_result"
    },
    {
     "data": {
      "image/png": "[encoded data removed]",
      "text/plain": [
       "<matplotlib.figure.Figure at 0x13d31ee50>"
      ]
     },
     "metadata": {},
     "output_type": "display_data"
    }
   ],
   "source": [
    "train_data.hist(column = 'LoanAmount', by = 'Gender', bins = 10)"
   ]
  },
  {
   "cell_type": "code",
   "execution_count": 809,
   "metadata": {},
   "outputs": [
    {
     "data": {
      "text/plain": [
       "<seaborn.axisgrid.PairGrid at 0x13ee8efd0>"
      ]
     },
     "execution_count": 809,
     "metadata": {},
     "output_type": "execute_result"
    },
    {
     "data": {
      "image/png": "[encoded data removed]",
      "text/plain": [
       "<matplotlib.figure.Figure at 0x13d31ec10>"
      ]
     },
     "metadata": {},
     "output_type": "display_data"
    }
   ],
   "source": [
    "sns.pairplot(train_data.dropna(axis = 0, how = 'any'))"
   ]
  },
  {
   "cell_type": "code",
   "execution_count": 810,
   "metadata": {},
   "outputs": [
    {
     "data": {
      "text/html": [
       "<div>\n",
       "<style>\n",
       "    .dataframe thead tr:only-child th {\n",
       "        text-align: right;\n",
       "    }\n",
       "\n",
       "    .dataframe thead th {\n",
       "        text-align: left;\n",
       "    }\n",
       "\n",
       "    .dataframe tbody tr th {\n",
       "        vertical-align: top;\n",
       "    }\n",
       "</style>\n",
       "<table border=\"1\" class=\"dataframe\">\n",
       "  <thead>\n",
       "    <tr style=\"text-align: right;\">\n",
       "      <th></th>\n",
       "      <th>LoanAmount</th>\n",
       "      <th>Loan_Amount_Term</th>\n",
       "      <th>Credit_History</th>\n",
       "      <th>TotalIncome</th>\n",
       "    </tr>\n",
       "  </thead>\n",
       "  <tbody>\n",
       "    <tr>\n",
       "      <th>LoanAmount</th>\n",
       "      <td>1.000000</td>\n",
       "      <td>0.039447</td>\n",
       "      <td>-0.008433</td>\n",
       "      <td>0.624621</td>\n",
       "    </tr>\n",
       "    <tr>\n",
       "      <th>Loan_Amount_Term</th>\n",
       "      <td>0.039447</td>\n",
       "      <td>1.000000</td>\n",
       "      <td>0.001470</td>\n",
       "      <td>-0.069948</td>\n",
       "    </tr>\n",
       "    <tr>\n",
       "      <th>Credit_History</th>\n",
       "      <td>-0.008433</td>\n",
       "      <td>0.001470</td>\n",
       "      <td>1.000000</td>\n",
       "      <td>-0.015109</td>\n",
       "    </tr>\n",
       "    <tr>\n",
       "      <th>TotalIncome</th>\n",
       "      <td>0.624621</td>\n",
       "      <td>-0.069948</td>\n",
       "      <td>-0.015109</td>\n",
       "      <td>1.000000</td>\n",
       "    </tr>\n",
       "  </tbody>\n",
       "</table>\n",
       "</div>"
      ],
      "text/plain": [
       "                  LoanAmount  Loan_Amount_Term  Credit_History  TotalIncome\n",
       "LoanAmount          1.000000          0.039447       -0.008433     0.624621\n",
       "Loan_Amount_Term    0.039447          1.000000        0.001470    -0.069948\n",
       "Credit_History     -0.008433          0.001470        1.000000    -0.015109\n",
       "TotalIncome         0.624621         -0.069948       -0.015109     1.000000"
      ]
     },
     "execution_count": 810,
     "metadata": {},
     "output_type": "execute_result"
    }
   ],
   "source": [
    "train_data.corr(method='pearson', min_periods=1)"
   ]
  },
  {
   "cell_type": "markdown",
   "metadata": {},
   "source": [
    "**Outliers Treatment**"
   ]
  },
  {
   "cell_type": "markdown",
   "metadata": {},
   "source": [
    "*Printing mean, median, mode*"
   ]
  },
  {
   "cell_type": "code",
   "execution_count": 811,
   "metadata": {
    "collapsed": true
   },
   "outputs": [],
   "source": [
    "def mean_median_mode(x):\n",
    "    return (round(x.mean()),round(x.median()),x.value_counts().index[0])"
   ]
  },
  {
   "cell_type": "code",
   "execution_count": 812,
   "metadata": {},
   "outputs": [
    {
     "data": {
      "text/plain": [
       "LoanAmount             (146.0, 128.0, 120.0)\n",
       "Loan_Amount_Term       (342.0, 360.0, 360.0)\n",
       "Credit_History               (1.0, 1.0, 1.0)\n",
       "TotalIncome         (7025.0, 5417.0, 6000.0)\n",
       "dtype: object"
      ]
     },
     "execution_count": 812,
     "metadata": {},
     "output_type": "execute_result"
    }
   ],
   "source": [
    "train_data.select_dtypes(include = ['float64']).apply(mean_median_mode, axis =0)"
   ]
  },
  {
   "cell_type": "code",
   "execution_count": 813,
   "metadata": {},
   "outputs": [
    {
     "data": {
      "text/plain": [
       "(Gender\n",
       " Female    126.697248\n",
       " Male      149.265957\n",
       " Name: LoanAmount, dtype: float64, Gender\n",
       " Female    5751.482143\n",
       " Male      7189.392474\n",
       " Name: TotalIncome, dtype: float64)"
      ]
     },
     "execution_count": 813,
     "metadata": {},
     "output_type": "execute_result"
    }
   ],
   "source": [
    "train_data.groupby(['Gender'])['LoanAmount'].mean(), train_data.groupby(['Gender'])['TotalIncome'].mean()"
   ]
  },
  {
   "cell_type": "markdown",
   "metadata": {},
   "source": [
    "*As the median values are significantly different for Females and Males, we will replace ouliers by Gender specific column median (Education, Self_Employed and Property_Area did not show significant difference in median of the underlying columns, hence only Gender is considered for splitting)*"
   ]
  },
  {
   "cell_type": "code",
   "execution_count": 814,
   "metadata": {
    "collapsed": true
   },
   "outputs": [],
   "source": [
    "def replace_outliers_with_median(df,col):\n",
    "    return df[col].replace( df[df[col]>(df[col].mean()+3*df[col].std())][col] , df[col].median(), inplace = True)"
   ]
  },
  {
   "cell_type": "code",
   "execution_count": 815,
   "metadata": {
    "collapsed": true
   },
   "outputs": [],
   "source": [
    "for x in ['Female','Male']:\n",
    "    df = train_data[train_data['Gender']==x]\n",
    "    for col in ['LoanAmount','TotalIncome']:\n",
    "        replace_outliers_with_median(df, col)\n",
    "    train_data[train_data['Gender']==x] = df"
   ]
  },
  {
   "cell_type": "code",
   "execution_count": 816,
   "metadata": {},
   "outputs": [
    {
     "data": {
      "text/plain": [
       "(Gender\n",
       " Female    118.715596\n",
       " Male      139.848936\n",
       " Name: LoanAmount, dtype: float64, Gender\n",
       " Female    5414.098214\n",
       " Male      6539.815787\n",
       " Name: TotalIncome, dtype: float64)"
      ]
     },
     "execution_count": 816,
     "metadata": {},
     "output_type": "execute_result"
    }
   ],
   "source": [
    "train_data.groupby(['Gender'])['LoanAmount'].mean(), train_data.groupby(['Gender'])['TotalIncome'].mean()"
   ]
  },
  {
   "cell_type": "markdown",
   "metadata": {},
   "source": [
    "*Mean has reduced after replacing outliers*"
   ]
  },
  {
   "cell_type": "code",
   "execution_count": 817,
   "metadata": {},
   "outputs": [
    {
     "data": {
      "text/plain": [
       "LoanAmount             (137.0, 127.0, 130.0)\n",
       "Loan_Amount_Term       (342.0, 360.0, 360.0)\n",
       "Credit_History               (1.0, 1.0, 1.0)\n",
       "TotalIncome         (6446.0, 5407.0, 5666.0)\n",
       "dtype: object"
      ]
     },
     "execution_count": 817,
     "metadata": {},
     "output_type": "execute_result"
    }
   ],
   "source": [
    "train_data.select_dtypes(include = ['float64']).apply(mean_median_mode, axis =0)"
   ]
  },
  {
   "cell_type": "code",
   "execution_count": 923,
   "metadata": {},
   "outputs": [
    {
     "data": {
      "text/plain": [
       "Loan_ID\n",
       "LP001011    267.0\n",
       "LP001020    349.0\n",
       "LP001046    315.0\n",
       "LP001100    320.0\n",
       "LP001186    286.0\n",
       "Name: LoanAmount, dtype: float64"
      ]
     },
     "execution_count": 923,
     "metadata": {},
     "output_type": "execute_result"
    }
   ],
   "source": [
    "train_data.LoanAmount[train_data.LoanAmount > np.percentile(train_data.LoanAmount,95)].head()"
   ]
  },
  {
   "cell_type": "code",
   "execution_count": 924,
   "metadata": {},
   "outputs": [
    {
     "data": {
      "text/plain": [
       "Loan_ID\n",
       "LP001030    17.0\n",
       "LP001086    35.0\n",
       "LP001120    47.0\n",
       "LP001138    44.0\n",
       "LP001275    50.0\n",
       "Name: LoanAmount, dtype: float64"
      ]
     },
     "execution_count": 924,
     "metadata": {},
     "output_type": "execute_result"
    }
   ],
   "source": [
    "train_data.LoanAmount[train_data.LoanAmount < np.percentile(train_data.LoanAmount,5)].head()"
   ]
  },
  {
   "cell_type": "markdown",
   "metadata": {},
   "source": [
    "**Missing Values Treatment**"
   ]
  },
  {
   "cell_type": "code",
   "execution_count": 818,
   "metadata": {},
   "outputs": [
    {
     "data": {
      "text/plain": [
       "Gender              13\n",
       "Married              3\n",
       "Dependents          15\n",
       "Education            0\n",
       "Self_Employed       32\n",
       "LoanAmount          22\n",
       "Loan_Amount_Term    14\n",
       "Credit_History      50\n",
       "Property_Area        0\n",
       "Loan_Status          0\n",
       "TotalIncome          0\n",
       "dtype: int64"
      ]
     },
     "execution_count": 818,
     "metadata": {},
     "output_type": "execute_result"
    }
   ],
   "source": [
    "def count_missing_values(x):\n",
    "    return sum(x.isnull())\n",
    "\n",
    "train_data.apply(count_missing_values, axis = 0)"
   ]
  },
  {
   "cell_type": "code",
   "execution_count": 819,
   "metadata": {
    "collapsed": true
   },
   "outputs": [],
   "source": [
    "def replace_missing_values_numericvariable(df,col):\n",
    "    return df[col].fillna(df[col].median(), inplace = True)\n",
    "    \n",
    "def replace_missing_values_categoricalvariable(df,col):\n",
    "    return df[col].fillna(df[col].value_counts().index[0], inplace = True)"
   ]
  },
  {
   "cell_type": "code",
   "execution_count": 820,
   "metadata": {
    "collapsed": true
   },
   "outputs": [],
   "source": [
    "for x in ['Female','Male']:\n",
    "    df = train_data[train_data['Gender']==x]\n",
    "    for col in train_data.select_dtypes(include = ['float64']).columns.tolist():\n",
    "        replace_missing_values_numericvariable(df, col)\n",
    "    train_data[train_data['Gender']==x] = df\n",
    "    \n",
    "for col in train_data.select_dtypes(include = ['object']).columns.tolist():\n",
    "    replace_missing_values_categoricalvariable(train_data, col)"
   ]
  },
  {
   "cell_type": "code",
   "execution_count": 821,
   "metadata": {},
   "outputs": [
    {
     "data": {
      "text/plain": [
       "Gender              0\n",
       "Married             0\n",
       "Dependents          0\n",
       "Education           0\n",
       "Self_Employed       0\n",
       "LoanAmount          0\n",
       "Loan_Amount_Term    0\n",
       "Credit_History      1\n",
       "Property_Area       0\n",
       "Loan_Status         0\n",
       "TotalIncome         0\n",
       "dtype: int64"
      ]
     },
     "execution_count": 821,
     "metadata": {},
     "output_type": "execute_result"
    }
   ],
   "source": [
    "train_data.apply(count_missing_values, axis = 0)"
   ]
  },
  {
   "cell_type": "code",
   "execution_count": 822,
   "metadata": {
    "collapsed": true
   },
   "outputs": [],
   "source": [
    "train_data['Credit_History'].fillna(1,inplace = True)"
   ]
  },
  {
   "cell_type": "markdown",
   "metadata": {},
   "source": [
    "**Data Modelling**"
   ]
  },
  {
   "cell_type": "code",
   "execution_count": 823,
   "metadata": {
    "collapsed": true
   },
   "outputs": [],
   "source": [
    "#Changing all categorical variables to numerical variables\n",
    "le = LabelEncoder()\n",
    "var_to_encode = train_data.select_dtypes(include = ['object'])\n",
    "for col in var_to_encode:\n",
    "    train_data[col] = le.fit_transform(train_data[col])    \n",
    "    \n",
    "var_to_encode = test_data.select_dtypes(include = ['object'])\n",
    "for col in var_to_encode:\n",
    "    test_data[col] = le.fit_transform(test_data[col])        \n",
    "\n",
    "#Defining Train and Test Data set\n",
    "predictors = [x for x in train_data.columns if x != 'Loan_Status']\n",
    "X_train = train_data[predictors]\n",
    "y_train = train_data['Loan_Status']\n",
    "X_test = test_data[predictors]\n"
   ]
  },
  {
   "cell_type": "code",
   "execution_count": 914,
   "metadata": {
    "collapsed": true
   },
   "outputs": [],
   "source": [
    "def modelfit(alg, dtrain, predictors, performCV = True, featureImp = True, cv_folds = 5):\n",
    "    alg.fit(dtrain[predictors], dtrain['Loan_Status'])\n",
    "    predictions = alg.predict(dtrain[predictors])\n",
    "    predictions_prob = alg.predict_proba(dtrain[predictors])[:,1]\n",
    "    \n",
    "    #Perform cross_validation\n",
    "    if performCV:\n",
    "        cv_score = cross_validation.cross_val_score(alg, dtrain[predictors], dtrain['Loan_Status'], cv = cv_folds, scoring = 'roc_auc')\n",
    "     \n",
    "    #Print Model Report\n",
    "    print '\\nModel Report:'\n",
    "    print '\\nAccuracy Score: %.4g'% metrics.accuracy_score(dtrain['Loan_Status'].values, predictions)\n",
    "    print '\\nAUC Score: %f'% metrics.roc_auc_score(dtrain['Loan_Status'],predictions_prob)\n",
    "    print '\\nCV Score: %.4g' % np.mean(cv_score)\n",
    "    \n",
    "    \n",
    "    #Print Features Importance\n",
    "    if featureImp:\n",
    "        feat_imp = pd.Series(alg.feature_importance_, predictors).sort_values(ascending = False)\n",
    "        feat_imp.plot(kind = 'bar', title = 'Feature Importance')\n",
    "        "
   ]
  },
  {
   "cell_type": "code",
   "execution_count": 825,
   "metadata": {},
   "outputs": [
    {
     "name": "stdout",
     "output_type": "stream",
     "text": [
      "\n",
      "Model Report:\n",
      "\n",
      "Accuracy Score: 0.8844\n",
      "\n",
      "AUC Score: 0.966269\n",
      "\n",
      "CV Score: 0.7232\n"
     ]
    },
    {
     "data": {
      "image/png": "[encoded data removed]",
      "text/plain": [
       "<matplotlib.figure.Figure at 0x1408f7b50>"
      ]
     },
     "metadata": {},
     "output_type": "display_data"
    }
   ],
   "source": [
    "alg = GradientBoostingClassifier(random_state = 10)\n",
    "modelfit(alg, train_data, predictors)"
   ]
  },
  {
   "cell_type": "markdown",
   "metadata": {},
   "source": [
    "*Hyperparameter Tuning*"
   ]
  },
  {
   "cell_type": "code",
   "execution_count": 857,
   "metadata": {},
   "outputs": [
    {
     "data": {
      "text/plain": [
       "([mean: 0.74501, std: 0.03408, params: {'n_estimators': 20},\n",
       "  mean: 0.74235, std: 0.04435, params: {'n_estimators': 30},\n",
       "  mean: 0.74505, std: 0.04261, params: {'n_estimators': 40},\n",
       "  mean: 0.73949, std: 0.04438, params: {'n_estimators': 50},\n",
       "  mean: 0.74548, std: 0.04561, params: {'n_estimators': 60},\n",
       "  mean: 0.74685, std: 0.04513, params: {'n_estimators': 70},\n",
       "  mean: 0.74827, std: 0.04340, params: {'n_estimators': 80}],\n",
       " {'n_estimators': 80},\n",
       " 0.7482738791094647)"
      ]
     },
     "execution_count": 857,
     "metadata": {},
     "output_type": "execute_result"
    }
   ],
   "source": [
    "param_test1 = {'n_estimators':range(20,81,10)}\n",
    "gsearch1 = GridSearchCV(estimator = GradientBoostingClassifier(learning_rate=0.1, min_samples_split=100,\n",
    "                                  min_samples_leaf=10,max_depth=4,max_features='sqrt', subsample=0.8,random_state=10), \n",
    "                       param_grid = param_test1, scoring='roc_auc',n_jobs=4, cv=5)\n",
    "gsearch1.fit(X_train, y_train)\n",
    "gsearch1.grid_scores_, gsearch1.best_params_, gsearch1.best_score_"
   ]
  },
  {
   "cell_type": "code",
   "execution_count": 867,
   "metadata": {},
   "outputs": [
    {
     "data": {
      "text/plain": [
       "([mean: 0.75229, std: 0.04413, params: {'min_samples_split': 20, 'max_depth': 2, 'min_samples_leaf': 2},\n",
       "  mean: 0.76416, std: 0.04157, params: {'min_samples_split': 201, 'max_depth': 2, 'min_samples_leaf': 2},\n",
       "  mean: 0.75229, std: 0.04413, params: {'min_samples_split': 20, 'max_depth': 2, 'min_samples_leaf': 2},\n",
       "  mean: 0.75392, std: 0.04653, params: {'min_samples_split': 20, 'max_depth': 2, 'min_samples_leaf': 4},\n",
       "  mean: 0.76470, std: 0.04181, params: {'min_samples_split': 201, 'max_depth': 2, 'min_samples_leaf': 4},\n",
       "  mean: 0.75392, std: 0.04653, params: {'min_samples_split': 20, 'max_depth': 2, 'min_samples_leaf': 4},\n",
       "  mean: 0.75756, std: 0.04411, params: {'min_samples_split': 20, 'max_depth': 2, 'min_samples_leaf': 6},\n",
       "  mean: 0.76213, std: 0.04169, params: {'min_samples_split': 201, 'max_depth': 2, 'min_samples_leaf': 6},\n",
       "  mean: 0.75756, std: 0.04411, params: {'min_samples_split': 20, 'max_depth': 2, 'min_samples_leaf': 6},\n",
       "  mean: 0.75706, std: 0.03460, params: {'min_samples_split': 20, 'max_depth': 2, 'min_samples_leaf': 8},\n",
       "  mean: 0.76003, std: 0.04244, params: {'min_samples_split': 201, 'max_depth': 2, 'min_samples_leaf': 8},\n",
       "  mean: 0.75706, std: 0.03460, params: {'min_samples_split': 20, 'max_depth': 2, 'min_samples_leaf': 8},\n",
       "  mean: 0.75944, std: 0.03642, params: {'min_samples_split': 20, 'max_depth': 2, 'min_samples_leaf': 10},\n",
       "  mean: 0.75704, std: 0.04067, params: {'min_samples_split': 201, 'max_depth': 2, 'min_samples_leaf': 10},\n",
       "  mean: 0.75944, std: 0.03642, params: {'min_samples_split': 20, 'max_depth': 2, 'min_samples_leaf': 10},\n",
       "  mean: 0.74507, std: 0.04963, params: {'min_samples_split': 20, 'max_depth': 4, 'min_samples_leaf': 2},\n",
       "  mean: 0.76079, std: 0.04984, params: {'min_samples_split': 201, 'max_depth': 4, 'min_samples_leaf': 2},\n",
       "  mean: 0.74507, std: 0.04963, params: {'min_samples_split': 20, 'max_depth': 4, 'min_samples_leaf': 2},\n",
       "  mean: 0.73601, std: 0.05928, params: {'min_samples_split': 20, 'max_depth': 4, 'min_samples_leaf': 4},\n",
       "  mean: 0.75748, std: 0.04774, params: {'min_samples_split': 201, 'max_depth': 4, 'min_samples_leaf': 4},\n",
       "  mean: 0.73601, std: 0.05928, params: {'min_samples_split': 20, 'max_depth': 4, 'min_samples_leaf': 4},\n",
       "  mean: 0.73279, std: 0.06020, params: {'min_samples_split': 20, 'max_depth': 4, 'min_samples_leaf': 6},\n",
       "  mean: 0.75673, std: 0.05008, params: {'min_samples_split': 201, 'max_depth': 4, 'min_samples_leaf': 6},\n",
       "  mean: 0.73279, std: 0.06020, params: {'min_samples_split': 20, 'max_depth': 4, 'min_samples_leaf': 6},\n",
       "  mean: 0.73659, std: 0.05085, params: {'min_samples_split': 20, 'max_depth': 4, 'min_samples_leaf': 8},\n",
       "  mean: 0.74767, std: 0.04837, params: {'min_samples_split': 201, 'max_depth': 4, 'min_samples_leaf': 8},\n",
       "  mean: 0.73659, std: 0.05085, params: {'min_samples_split': 20, 'max_depth': 4, 'min_samples_leaf': 8},\n",
       "  mean: 0.73434, std: 0.05149, params: {'min_samples_split': 20, 'max_depth': 4, 'min_samples_leaf': 10},\n",
       "  mean: 0.75112, std: 0.03956, params: {'min_samples_split': 201, 'max_depth': 4, 'min_samples_leaf': 10},\n",
       "  mean: 0.73434, std: 0.05149, params: {'min_samples_split': 20, 'max_depth': 4, 'min_samples_leaf': 10},\n",
       "  mean: 0.74045, std: 0.05485, params: {'min_samples_split': 20, 'max_depth': 6, 'min_samples_leaf': 2},\n",
       "  mean: 0.75176, std: 0.05090, params: {'min_samples_split': 201, 'max_depth': 6, 'min_samples_leaf': 2},\n",
       "  mean: 0.74045, std: 0.05485, params: {'min_samples_split': 20, 'max_depth': 6, 'min_samples_leaf': 2},\n",
       "  mean: 0.72843, std: 0.04826, params: {'min_samples_split': 20, 'max_depth': 6, 'min_samples_leaf': 4},\n",
       "  mean: 0.75763, std: 0.04830, params: {'min_samples_split': 201, 'max_depth': 6, 'min_samples_leaf': 4},\n",
       "  mean: 0.72843, std: 0.04826, params: {'min_samples_split': 20, 'max_depth': 6, 'min_samples_leaf': 4},\n",
       "  mean: 0.72955, std: 0.05774, params: {'min_samples_split': 20, 'max_depth': 6, 'min_samples_leaf': 6},\n",
       "  mean: 0.74555, std: 0.04945, params: {'min_samples_split': 201, 'max_depth': 6, 'min_samples_leaf': 6},\n",
       "  mean: 0.72955, std: 0.05774, params: {'min_samples_split': 20, 'max_depth': 6, 'min_samples_leaf': 6},\n",
       "  mean: 0.72359, std: 0.06297, params: {'min_samples_split': 20, 'max_depth': 6, 'min_samples_leaf': 8},\n",
       "  mean: 0.74738, std: 0.04232, params: {'min_samples_split': 201, 'max_depth': 6, 'min_samples_leaf': 8},\n",
       "  mean: 0.72359, std: 0.06297, params: {'min_samples_split': 20, 'max_depth': 6, 'min_samples_leaf': 8},\n",
       "  mean: 0.74010, std: 0.03711, params: {'min_samples_split': 20, 'max_depth': 6, 'min_samples_leaf': 10},\n",
       "  mean: 0.75261, std: 0.04079, params: {'min_samples_split': 201, 'max_depth': 6, 'min_samples_leaf': 10},\n",
       "  mean: 0.74010, std: 0.03711, params: {'min_samples_split': 20, 'max_depth': 6, 'min_samples_leaf': 10},\n",
       "  mean: 0.73090, std: 0.06575, params: {'min_samples_split': 20, 'max_depth': 8, 'min_samples_leaf': 2},\n",
       "  mean: 0.75020, std: 0.04780, params: {'min_samples_split': 201, 'max_depth': 8, 'min_samples_leaf': 2},\n",
       "  mean: 0.73090, std: 0.06575, params: {'min_samples_split': 20, 'max_depth': 8, 'min_samples_leaf': 2},\n",
       "  mean: 0.72955, std: 0.06250, params: {'min_samples_split': 20, 'max_depth': 8, 'min_samples_leaf': 4},\n",
       "  mean: 0.75506, std: 0.04555, params: {'min_samples_split': 201, 'max_depth': 8, 'min_samples_leaf': 4},\n",
       "  mean: 0.72955, std: 0.06250, params: {'min_samples_split': 20, 'max_depth': 8, 'min_samples_leaf': 4},\n",
       "  mean: 0.73499, std: 0.04837, params: {'min_samples_split': 20, 'max_depth': 8, 'min_samples_leaf': 6},\n",
       "  mean: 0.75034, std: 0.04422, params: {'min_samples_split': 201, 'max_depth': 8, 'min_samples_leaf': 6},\n",
       "  mean: 0.73499, std: 0.04837, params: {'min_samples_split': 20, 'max_depth': 8, 'min_samples_leaf': 6},\n",
       "  mean: 0.72619, std: 0.04766, params: {'min_samples_split': 20, 'max_depth': 8, 'min_samples_leaf': 8},\n",
       "  mean: 0.74335, std: 0.04338, params: {'min_samples_split': 201, 'max_depth': 8, 'min_samples_leaf': 8},\n",
       "  mean: 0.72619, std: 0.04766, params: {'min_samples_split': 20, 'max_depth': 8, 'min_samples_leaf': 8},\n",
       "  mean: 0.75022, std: 0.03245, params: {'min_samples_split': 20, 'max_depth': 8, 'min_samples_leaf': 10},\n",
       "  mean: 0.75066, std: 0.04000, params: {'min_samples_split': 201, 'max_depth': 8, 'min_samples_leaf': 10},\n",
       "  mean: 0.75022, std: 0.03245, params: {'min_samples_split': 20, 'max_depth': 8, 'min_samples_leaf': 10},\n",
       "  mean: 0.73473, std: 0.06618, params: {'min_samples_split': 20, 'max_depth': 10, 'min_samples_leaf': 2},\n",
       "  mean: 0.75175, std: 0.04941, params: {'min_samples_split': 201, 'max_depth': 10, 'min_samples_leaf': 2},\n",
       "  mean: 0.73473, std: 0.06618, params: {'min_samples_split': 20, 'max_depth': 10, 'min_samples_leaf': 2},\n",
       "  mean: 0.74408, std: 0.05654, params: {'min_samples_split': 20, 'max_depth': 10, 'min_samples_leaf': 4},\n",
       "  mean: 0.75186, std: 0.04591, params: {'min_samples_split': 201, 'max_depth': 10, 'min_samples_leaf': 4},\n",
       "  mean: 0.74408, std: 0.05654, params: {'min_samples_split': 20, 'max_depth': 10, 'min_samples_leaf': 4},\n",
       "  mean: 0.72255, std: 0.05161, params: {'min_samples_split': 20, 'max_depth': 10, 'min_samples_leaf': 6},\n",
       "  mean: 0.74906, std: 0.04273, params: {'min_samples_split': 201, 'max_depth': 10, 'min_samples_leaf': 6},\n",
       "  mean: 0.72255, std: 0.05161, params: {'min_samples_split': 20, 'max_depth': 10, 'min_samples_leaf': 6},\n",
       "  mean: 0.73461, std: 0.05095, params: {'min_samples_split': 20, 'max_depth': 10, 'min_samples_leaf': 8},\n",
       "  mean: 0.74422, std: 0.04332, params: {'min_samples_split': 201, 'max_depth': 10, 'min_samples_leaf': 8},\n",
       "  mean: 0.73461, std: 0.05095, params: {'min_samples_split': 20, 'max_depth': 10, 'min_samples_leaf': 8},\n",
       "  mean: 0.73383, std: 0.03073, params: {'min_samples_split': 20, 'max_depth': 10, 'min_samples_leaf': 10},\n",
       "  mean: 0.74873, std: 0.03784, params: {'min_samples_split': 201, 'max_depth': 10, 'min_samples_leaf': 10},\n",
       "  mean: 0.73383, std: 0.03073, params: {'min_samples_split': 20, 'max_depth': 10, 'min_samples_leaf': 10}],\n",
       " {'max_depth': 2, 'min_samples_leaf': 4, 'min_samples_split': 201},\n",
       " 0.7647033044052789)"
      ]
     },
     "execution_count": 867,
     "metadata": {},
     "output_type": "execute_result"
    }
   ],
   "source": [
    "param_test2 = {'max_depth':range(2,11,2),'min_samples_split':(20,201,20),'min_samples_leaf':range(2,11,2)}\n",
    "gsearch2 = GridSearchCV(estimator = GradientBoostingClassifier(learning_rate=0.1, max_features='sqrt', \n",
    "                                n_estimators=80, subsample=0.8, random_state=10),\n",
    "                       param_grid = param_test2, scoring = 'roc_auc', n_jobs = 4, cv = 5)\n",
    "gsearch2.fit(X_train, y_train)\n",
    "gsearch2.grid_scores_, gsearch2.best_params_, gsearch2.best_score_"
   ]
  },
  {
   "cell_type": "code",
   "execution_count": 878,
   "metadata": {},
   "outputs": [
    {
     "name": "stdout",
     "output_type": "stream",
     "text": [
      "\n",
      "Model Report:\n",
      "\n",
      "Accuracy Score: 0.816\n",
      "\n",
      "AUC Score: 0.863800\n",
      "\n",
      "CV Score: 0.7648\n"
     ]
    },
    {
     "data": {
      "image/png": "[encoded data removed]",
      "text/plain": [
       "<matplotlib.figure.Figure at 0x1401dc250>"
      ]
     },
     "metadata": {},
     "output_type": "display_data"
    }
   ],
   "source": [
    "alg = gsearch4.best_estimator_\n",
    "modelfit(alg,train_data,predictors)"
   ]
  },
  {
   "cell_type": "code",
   "execution_count": 916,
   "metadata": {},
   "outputs": [
    {
     "data": {
      "text/plain": [
       "0.77524429967426711"
      ]
     },
     "execution_count": 916,
     "metadata": {},
     "output_type": "execute_result"
    }
   ],
   "source": [
    "alg = SVC(probability = True, kernel = 'linear')\n",
    "alg.fit(X_train, y_train)\n",
    "predictions = alg.predict(X_train)\n",
    "alg.score(X_train, y_train)"
   ]
  },
  {
   "cell_type": "code",
   "execution_count": null,
   "metadata": {
    "collapsed": true
   },
   "outputs": [],
   "source": [
    "alg = LogisticRegression()\n",
    "alg.fit(X_train, y_train)\n",
    "predictions = alg.predict(X_train)\n",
    "alg.score(X_train, y_train)"
   ]
  },
  {
   "cell_type": "code",
   "execution_count": 906,
   "metadata": {
    "collapsed": true
   },
   "outputs": [],
   "source": [
    "def modelfitsubmit(alg, dtrain, dtest, predictors, performCV = True, featureImp = True, cv_folds = 5):\n",
    "    alg.fit(dtrain[predictors], dtrain['Loan_Status'])\n",
    "    predictions = alg.predict(dtest[predictors])\n",
    "    dtest['Loan_Status'] = predictions\n",
    "    return dtest['Loan_Status']"
   ]
  },
  {
   "cell_type": "code",
   "execution_count": 907,
   "metadata": {
    "collapsed": true
   },
   "outputs": [],
   "source": [
    "SubmissionFile = modelfitsubmit(alg, train_data, test_data, predictors)\n",
    "SubmissionFile.to_csv(\"SubmissionFile.csv\")"
   ]
  },
  {
   "cell_type": "code",
   "execution_count": null,
   "metadata": {
    "collapsed": true
   },
   "outputs": [],
   "source": []
  }
 ],
 "metadata": {
  "kernelspec": {
   "display_name": "Python 2",
   "language": "python",
   "name": "python2"
  },
  "language_info": {
   "codemirror_mode": {
    "name": "ipython",
    "version": 2
   },
   "file_extension": ".py",
   "mimetype": "text/x-python",
   "name": "python",
   "nbconvert_exporter": "python",
   "pygments_lexer": "ipython2",
   "version": "2.7.15"
  }
 },
 "nbformat": 4,
 "nbformat_minor": 2
}
